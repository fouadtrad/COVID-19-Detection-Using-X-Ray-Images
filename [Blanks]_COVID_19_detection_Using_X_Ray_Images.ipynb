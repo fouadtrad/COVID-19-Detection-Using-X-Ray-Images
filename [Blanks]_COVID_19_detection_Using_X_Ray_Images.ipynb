{
  "nbformat": 4,
  "nbformat_minor": 0,
  "metadata": {
    "colab": {
      "provenance": []
    },
    "kernelspec": {
      "name": "python3",
      "display_name": "Python 3"
    },
    "language_info": {
      "name": "python"
    }
  },
  "cells": [
    {
      "cell_type": "markdown",
      "metadata": {
        "id": "4f7vjB2ciC-w"
      },
      "source": [
        "# COVID-19 detection Using X-Ray Images\n",
        "\n",
        "---\n",
        "© 2021 Zaka AI, Inc. All Rights Reserved\n",
        "\n",
        "**Objective:** The goal of this hands-on workshop is to build a model that can detect whether a patient has COVID-19 or not based on X-ray images provided as input."
      ]
    },
    {
      "cell_type": "markdown",
      "metadata": {
        "id": "w73hAOXvidIM"
      },
      "source": [
        "##Importing the Libraries"
      ]
    },
    {
      "cell_type": "markdown",
      "metadata": {
        "id": "vkVOZtEzigJs"
      },
      "source": [
        "We start by importing some of the libraries that we will use for later."
      ]
    },
    {
      "cell_type": "code",
      "metadata": {
        "id": "MHBLAb8Ch-Vb"
      },
      "source": [
        "import numpy as np\n",
        "from matplotlib import pyplot as plt\n",
        "import tensorflow as tf\n",
        "import cv2\n",
        "import random"
      ],
      "execution_count": null,
      "outputs": []
    },
    {
      "cell_type": "markdown",
      "metadata": {
        "id": "DOOtrEAqoEZs"
      },
      "source": [
        "##Importing the dataset"
      ]
    },
    {
      "cell_type": "markdown",
      "metadata": {
        "id": "H8hzJ6cEoeJD"
      },
      "source": [
        "###Cloning the github repository"
      ]
    },
    {
      "cell_type": "markdown",
      "metadata": {
        "id": "8nOiuLIzoJKb"
      },
      "source": [
        "We clone the github repository that contains our dataset: https://github.com/zaka-ai/COVID-19-Detection-Using-X-Ray-Images"
      ]
    },
    {
      "cell_type": "code",
      "metadata": {
        "id": "PLkGznCsit9f"
      },
      "source": [
        "#Clone the repository\n",
        "___"
      ],
      "execution_count": null,
      "outputs": []
    },
    {
      "cell_type": "markdown",
      "metadata": {
        "id": "yYhIkixUpBcy"
      },
      "source": [
        "###Unzipping the Dataset"
      ]
    },
    {
      "cell_type": "markdown",
      "metadata": {
        "id": "Otu1mIMLoRmE"
      },
      "source": [
        "The repository contains the data in a zipped format, and this is why, we need to unzip the folder to be able to use the images in the dataset."
      ]
    },
    {
      "cell_type": "code",
      "metadata": {
        "id": "FyA9gmY0oOMy"
      },
      "source": [
        "#Unzip the dataset\n",
        "___"
      ],
      "execution_count": null,
      "outputs": []
    },
    {
      "cell_type": "markdown",
      "metadata": {
        "id": "uYk23MOoq6az"
      },
      "source": [
        "###Inspecting the dataset"
      ]
    },
    {
      "cell_type": "markdown",
      "metadata": {
        "id": "3gtYPHe6q9Ss"
      },
      "source": [
        "After the dataset has been loaded, we need to explore it and see what it contains."
      ]
    },
    {
      "cell_type": "markdown",
      "metadata": {
        "id": "DDSjrdJV04uO"
      },
      "source": [
        "Let's start by defining the paths for training, validation and testing."
      ]
    },
    {
      "cell_type": "code",
      "metadata": {
        "id": "pkU7CWrA0fDk"
      },
      "source": [
        "training_path = ______\n",
        "validation_path = ______\n",
        "testing_path = ______"
      ],
      "execution_count": null,
      "outputs": []
    },
    {
      "cell_type": "markdown",
      "metadata": {
        "id": "sdNv3Ig04XZF"
      },
      "source": [
        "Now, we will observe the number of samples per class in each subset of our data."
      ]
    },
    {
      "cell_type": "code",
      "metadata": {
        "id": "UlkYiPTuo0K7"
      },
      "source": [
        "import os\n",
        "#Training Set\n",
        "covid_training = ______\n",
        "normal_training = ______\n",
        "\n",
        "print(f\"We have {covid_training} COVID images and {normal_training} Normal images in our training set\")"
      ],
      "execution_count": null,
      "outputs": []
    },
    {
      "cell_type": "code",
      "metadata": {
        "id": "ZY9TVL3g3dtx"
      },
      "source": [
        "#Validation Set\n",
        "covid_val = ______\n",
        "normal_val = ______\n",
        "\n",
        "print(f\"We have {covid_val} COVID images and {normal_val} Normal images in our validation set\")"
      ],
      "execution_count": null,
      "outputs": []
    },
    {
      "cell_type": "code",
      "metadata": {
        "id": "9MQnCyEp4Dpw"
      },
      "source": [
        "#Testing Set\n",
        "covid_test = ______\n",
        "normal_test = ______\n",
        "\n",
        "print(f\"We have {covid_test} COVID images and {normal_test} Normal images in our testing set\")"
      ],
      "execution_count": null,
      "outputs": []
    },
    {
      "cell_type": "markdown",
      "metadata": {
        "id": "zM4eazim4qiE"
      },
      "source": [
        "Now we will visualize some images in the training set."
      ]
    },
    {
      "cell_type": "markdown",
      "metadata": {
        "id": "yyOzgegtILLs"
      },
      "source": [
        "####COVID Images"
      ]
    },
    {
      "cell_type": "markdown",
      "metadata": {
        "id": "Qyfr4rpGIOJK"
      },
      "source": [
        "We start by getting the name of all the COVID images in the training directory."
      ]
    },
    {
      "cell_type": "code",
      "metadata": {
        "id": "rKwLtxS7IXj0"
      },
      "source": [
        "all_images = ______\n",
        "all_images"
      ],
      "execution_count": null,
      "outputs": []
    },
    {
      "cell_type": "markdown",
      "metadata": {
        "id": "HPjv3I3XIdrS"
      },
      "source": [
        "We are gonna select from these images just 5 to display them"
      ]
    },
    {
      "cell_type": "code",
      "metadata": {
        "id": "YCbmH8kaInBK"
      },
      "source": [
        "display_images = ______\n",
        "display_images"
      ],
      "execution_count": null,
      "outputs": []
    },
    {
      "cell_type": "markdown",
      "metadata": {
        "id": "_arf7nMeIvaD"
      },
      "source": [
        "Now, we need to start visualizing these images. We will use a subplot of 1 by 5."
      ]
    },
    {
      "cell_type": "code",
      "metadata": {
        "id": "QiQ5T2iQ4SRH"
      },
      "source": [
        "fig = plt.figure(figsize=(20, 7))\n",
        "\n",
        "for index, image_name in enumerate(display_images):\n",
        "  img_path = ______ #Define the image path\n",
        "  img = cv2.______ #Read the image\n",
        "  fig.add_subplot(___, ___, ___)\n",
        "  plt.imshow(img)\n",
        "  plt.title(f\"COVID {index+1}\")"
      ],
      "execution_count": null,
      "outputs": []
    },
    {
      "cell_type": "markdown",
      "metadata": {
        "id": "mKBsKNn9Jity"
      },
      "source": [
        "####Normal Images"
      ]
    },
    {
      "cell_type": "markdown",
      "metadata": {
        "id": "Dsmrg85xJkrJ"
      },
      "source": [
        "Now, we will follow the same process for the Normal images."
      ]
    },
    {
      "cell_type": "code",
      "metadata": {
        "id": "rGsM5ER89tp4"
      },
      "source": [
        "#Normal cases\n",
        "all_images = ______\n",
        "display_images = ______\n",
        "fig = plt.figure(figsize=(20, 7))\n",
        "\n",
        "for index, image_name in enumerate(display_images):\n",
        "  img_path = ______\n",
        "  img = cv2.______\n",
        "  fig.add_subplot(___, ___, ___)\n",
        "  plt.imshow(img)\n",
        "  plt.title(f\"Normal {index+1}\")"
      ],
      "execution_count": null,
      "outputs": []
    },
    {
      "cell_type": "markdown",
      "metadata": {
        "id": "Y2HlBTa_RrcV"
      },
      "source": [
        "##Modeling"
      ]
    },
    {
      "cell_type": "markdown",
      "metadata": {
        "id": "FUcTxDKsKCkq"
      },
      "source": [
        "Now, we will start by designing a model that relies on Convolutional Neural Networks."
      ]
    },
    {
      "cell_type": "markdown",
      "metadata": {
        "id": "4P-y11Xdn0Ny"
      },
      "source": [
        "###Build a CNN"
      ]
    },
    {
      "cell_type": "markdown",
      "metadata": {
        "id": "HF5qR8yOKVgl"
      },
      "source": [
        "We will build a CNN that takes an image as input and gives as output the probability that this image belongs to a person who's testing positive."
      ]
    },
    {
      "cell_type": "code",
      "metadata": {
        "id": "_UFsvFtZm9jK"
      },
      "source": [
        "model = tf.keras.models.Sequential([\n",
        "    tf.keras.layers.Conv2D(16, (3,3), activation='relu', padding='same', input_shape=(128, 128, 3)),\n",
        "    tf.keras.layers.MaxPooling2D(2, 2),\n",
        "    tf.keras.layers.Conv2D(32, (3,3), activation='relu', padding='same'),\n",
        "    tf.keras.layers.MaxPooling2D(2,2),\n",
        "    tf.keras.layers.Conv2D(64, (3,3), activation='relu', padding='same'),\n",
        "    tf.keras.layers.MaxPooling2D(2,2),\n",
        "    tf.keras.layers.Flatten(),\n",
        "    tf.keras.layers.Dense(64, activation='relu'),\n",
        "    tf.keras.layers.Dense(1, activation='sigmoid')\n",
        "])\n",
        "#Show a summary of the model architecture\n",
        "model.summary()"
      ],
      "execution_count": null,
      "outputs": []
    },
    {
      "cell_type": "markdown",
      "metadata": {
        "id": "wL58YGLjb274"
      },
      "source": [
        "###Visualize the model."
      ]
    },
    {
      "cell_type": "markdown",
      "metadata": {
        "id": "jhfMiqzzb-bw"
      },
      "source": [
        "Let us see the architecture of the model."
      ]
    },
    {
      "cell_type": "code",
      "metadata": {
        "id": "FmLI2FbYdCl9"
      },
      "source": [
        "!pip install visualkeras"
      ],
      "execution_count": null,
      "outputs": []
    },
    {
      "cell_type": "code",
      "metadata": {
        "id": "EQZ1vCUiaKAh"
      },
      "source": [
        "import visualkeras\n",
        "visualkeras.layered_view(model, max_z = 226, min_z=8, max_xy=300) #The parameters other than the model control the size of the output image."
      ],
      "execution_count": null,
      "outputs": []
    },
    {
      "cell_type": "markdown",
      "metadata": {
        "id": "wOloALqZMPPx"
      },
      "source": [
        "###Prepare the Data"
      ]
    },
    {
      "cell_type": "markdown",
      "metadata": {
        "id": "rb3-uyrCh_ZM"
      },
      "source": [
        "We use the ImageDataGenerator Class to helps us get our data from their directories. The ImageDataGenerator Class helps also in applying some real-time operations and image augmentations for your data."
      ]
    },
    {
      "cell_type": "code",
      "metadata": {
        "id": "9yrxIAweh6Ru"
      },
      "source": [
        "from keras_preprocessing.image import ImageDataGenerator\n",
        "\n",
        "datagen = ImageDataGenerator(rescale = ______)\n",
        "\n",
        "train_generator = datagen.flow_from_directory(\n",
        "\t______, #Source directory\n",
        "\ttarget_size = ______, #Size of the images\n",
        "\n",
        "\tclass_mode = ______ #How many classes do we have\n",
        ")\n",
        "\n",
        "val_generator = datagen.flow_from_directory(\n",
        "\t______,\n",
        "\ttarget_size=______,\n",
        "  \n",
        "\tclass_mode=______,\n",
        ")"
      ],
      "execution_count": null,
      "outputs": []
    },
    {
      "cell_type": "markdown",
      "metadata": {
        "id": "gfdHW54yiFzg"
      },
      "source": [
        "Discover the label associated with each class."
      ]
    },
    {
      "cell_type": "code",
      "metadata": {
        "id": "7zEmjx9LiHie"
      },
      "source": [
        "train_generator.class_indices"
      ],
      "execution_count": null,
      "outputs": []
    },
    {
      "cell_type": "markdown",
      "metadata": {
        "id": "s4QQqp88gBOg"
      },
      "source": [
        "###Training the Model"
      ]
    },
    {
      "cell_type": "code",
      "metadata": {
        "id": "0L6PImUcdBRK"
      },
      "source": [
        "model.compile(loss = 'binary_crossentropy', optimizer='adam', metrics=['accuracy'])\n",
        "history = model.fit(______, epochs=______, validation_data = ______, verbose = 1)"
      ],
      "execution_count": null,
      "outputs": []
    },
    {
      "cell_type": "markdown",
      "metadata": {
        "id": "UJG7_MGZ6PkS"
      },
      "source": [
        "###Evaluate the Model on Unseen Data"
      ]
    },
    {
      "cell_type": "markdown",
      "metadata": {
        "id": "ImAIP3zE6Syb"
      },
      "source": [
        "Now, we need to see the performance of our model on unseen data to see how well it does."
      ]
    },
    {
      "cell_type": "code",
      "metadata": {
        "id": "VhcuUOBWiNgO"
      },
      "source": [
        "test_generator = datagen.flow_from_directory(\n",
        "\ttesting_path,\n",
        "\ttarget_size=(128, 128),\n",
        "  classes = ['Normal', 'COVID'],\n",
        "\tclass_mode='binary',\n",
        "  shuffle = False,\n",
        ")"
      ],
      "execution_count": null,
      "outputs": []
    },
    {
      "cell_type": "code",
      "metadata": {
        "id": "2zDCJPf47LjL"
      },
      "source": [
        "model.evaluate(______)"
      ],
      "execution_count": null,
      "outputs": []
    },
    {
      "cell_type": "markdown",
      "metadata": {
        "id": "glcw1d7uCsvt"
      },
      "source": [
        "####Plot the Confusion Matrix of the Model"
      ]
    },
    {
      "cell_type": "markdown",
      "metadata": {
        "id": "5qEchuXxDiH9"
      },
      "source": [
        "Get the predictions corresponding to the testing set"
      ]
    },
    {
      "cell_type": "code",
      "metadata": {
        "id": "gPMFCYmnDeu2"
      },
      "source": [
        "predictions = model.______\n",
        "predictions = ______\n",
        "predictions = predictions.astype(______)"
      ],
      "execution_count": null,
      "outputs": []
    },
    {
      "cell_type": "code",
      "metadata": {
        "id": "aMkjpm4BCxMD"
      },
      "source": [
        "from sklearn.metrics import confusion_matrix, plot_confusion_matrix\n",
        "import seaborn as sns\n",
        "cm = confusion_matrix(______, ______)\n",
        "sns.heatmap(cm, annot=True)"
      ],
      "execution_count": null,
      "outputs": []
    },
    {
      "cell_type": "markdown",
      "metadata": {
        "id": "aezKfzWj6Tdt"
      },
      "source": [
        "##See some predictions of our model"
      ]
    },
    {
      "cell_type": "markdown",
      "metadata": {
        "id": "sjgMEWFi6ZPM"
      },
      "source": [
        "Now, we will be seeing the predictions that are done by our model on several images that we will provide as input."
      ]
    },
    {
      "cell_type": "code",
      "metadata": {
        "id": "lScNZUECEgEx"
      },
      "source": [
        "test_generator.batch_size = 1\n",
        "test_generator.shuffle = True"
      ],
      "execution_count": null,
      "outputs": []
    },
    {
      "cell_type": "markdown",
      "metadata": {
        "id": "cV5NC_CiQdg0"
      },
      "source": [
        "To take a random example, we use the .next() function which selects a random batch from our specified directory."
      ]
    },
    {
      "cell_type": "code",
      "metadata": {
        "id": "JURQpIo9Qcuj"
      },
      "source": [
        "img = test_generator.______"
      ],
      "execution_count": null,
      "outputs": []
    },
    {
      "cell_type": "code",
      "metadata": {
        "id": "8AjaqKBs6fgd"
      },
      "source": [
        "#img[0] holds the image and img[1] holds the label of the image\n",
        "prediction = int(model.predict(______)>0.5)\n",
        "plt.imshow(______)\n",
        "plt.title(f\"Pred: {prediction}, True: {______}\")"
      ],
      "execution_count": null,
      "outputs": []
    }
  ]
}